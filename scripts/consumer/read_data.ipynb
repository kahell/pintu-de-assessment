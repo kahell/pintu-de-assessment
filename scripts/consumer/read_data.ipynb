{
 "cells": [
  {
   "cell_type": "code",
   "execution_count": 58,
   "metadata": {},
   "outputs": [],
   "source": [
    "from pyspark.sql import SparkSession\n",
    "from pyspark.sql.types import *\n",
    "from pyspark.sql.functions import *\n",
    "\n",
    "import os"
   ]
  },
  {
   "cell_type": "code",
   "execution_count": 59,
   "metadata": {},
   "outputs": [],
   "source": [
    "\n",
    "# Initialize a SparkSession\n",
    "spark = SparkSession.builder \\\n",
    "    .appName(\"reader\") \\\n",
    "    .master(\"local[*]\") \\\n",
    "    .getOrCreate()"
   ]
  },
  {
   "cell_type": "code",
   "execution_count": 60,
   "metadata": {},
   "outputs": [],
   "source": [
    "# Define the schema of the CSV file, if known.\n",
    "# If the CSV file has a header, you can let Spark infer the schema automatically.\n",
    "schema = StructType([\n",
    "    StructField(\"order_id\", IntegerType(), True),\n",
    "    StructField(\"symbol\", StringType(), True),\n",
    "    StructField(\"order_side\", StringType(), True),\n",
    "    StructField(\"size\", DoubleType(), True),\n",
    "    StructField(\"price\", DoubleType(), True),\n",
    "    StructField(\"status\", StringType(), True),\n",
    "    StructField(\"created_at\", IntegerType(), True),\n",
    "    StructField(\"total\", DoubleType(), True),\n",
    "    StructField(\"cum_sum\", DoubleType(), True),\n",
    "])"
   ]
  },
  {
   "cell_type": "code",
   "execution_count": 61,
   "metadata": {},
   "outputs": [],
   "source": [
    "# Path to your local CSV file\n",
    "this_script_dir = os.getcwd()\n",
    "output_dir_path_string = os.path.join(\n",
    "    os.path.dirname(\n",
    "        this_script_dir\n",
    "    ),\n",
    "    '..',\n",
    "    'src',\n",
    "    'main',\n",
    "    'scala',\n",
    "    'org',\n",
    "    'pintu',\n",
    "    'output',\n",
    "    'date_partition=2023-11-06'\n",
    ")\n",
    "\n",
    "source_dir_path_string = os.path.join(\n",
    "    os.path.dirname(\n",
    "        this_script_dir\n",
    "    ),\n",
    "    'producer',\n",
    "    'order_book_mockup.csv'\n",
    ")"
   ]
  },
  {
   "cell_type": "code",
   "execution_count": 62,
   "metadata": {},
   "outputs": [],
   "source": [
    "# Read the CSV file into a DataFrame\n",
    "# df = spark.read.parquet(\n",
    "#     path=output_dir_path_string,\n",
    "#     # schema=schema,  # Comment this line if you want Spark to infer the schema automatically\n",
    "# )\n",
    "\n",
    "# Read the parquety data\n",
    "df = spark.read.parquet(output_dir_path_string)\n",
    "\n",
    "# Read Source data\n",
    "source_df = spark.read.csv(path=source_dir_path_string, header=True)\n"
   ]
  },
  {
   "cell_type": "code",
   "execution_count": 48,
   "metadata": {},
   "outputs": [
    {
     "name": "stdout",
     "output_type": "stream",
     "text": [
      "root\n",
      " |-- order_id: string (nullable = true)\n",
      " |-- symbol: string (nullable = true)\n",
      " |-- order_side: string (nullable = true)\n",
      " |-- size: string (nullable = true)\n",
      " |-- price: string (nullable = true)\n",
      " |-- status: string (nullable = true)\n",
      " |-- created_at: string (nullable = true)\n",
      "\n"
     ]
    }
   ],
   "source": [
    "source_df.printSchema()"
   ]
  },
  {
   "cell_type": "code",
   "execution_count": 56,
   "metadata": {},
   "outputs": [
    {
     "name": "stdout",
     "output_type": "stream",
     "text": [
      "root\n",
      " |-- order_id: long (nullable = true)\n",
      " |-- symbol: string (nullable = true)\n",
      " |-- order_side: string (nullable = true)\n",
      " |-- size: double (nullable = true)\n",
      " |-- price: double (nullable = true)\n",
      " |-- status: string (nullable = true)\n",
      " |-- created_at: timestamp (nullable = true)\n",
      " |-- total: double (nullable = true)\n",
      " |-- cum_sum: double (nullable = true)\n",
      "\n"
     ]
    }
   ],
   "source": [
    "df.printSchema()"
   ]
  },
  {
   "cell_type": "code",
   "execution_count": 63,
   "metadata": {},
   "outputs": [
    {
     "name": "stdout",
     "output_type": "stream",
     "text": [
      "+--------+--------+----------+----+-------+------+-------------------+------------------+------------------+\n",
      "|order_id|  symbol|order_side|size|  price|status|         created_at|             total|           cum_sum|\n",
      "+--------+--------+----------+----+-------+------+-------------------+------------------+------------------+\n",
      "|       4|BTC-USDT|       BUY|0.74|33990.0|  OPEN|2023-09-06 11:11:48|           25152.6|           25152.6|\n",
      "|       6|BTC-USDT|       BUY|0.33|33965.0|  OPEN|2023-09-06 11:15:08|          11208.45|          36361.05|\n",
      "|       8|BTC-USDT|       BUY|0.15|33965.0|  OPEN|2023-09-06 11:18:28|           5094.75|           41455.8|\n",
      "|      10|BTC-USDT|       BUY|0.87|33965.0|  OPEN|2023-09-06 11:21:48|          29549.55|          71005.35|\n",
      "|      15|BTC-USDT|       BUY| 0.4|33960.0|  OPEN|2023-09-06 11:30:08|           13584.0|          84589.35|\n",
      "|      22|BTC-USDT|       BUY|0.35|33955.0|  OPEN|2023-09-06 11:41:48|          11884.25|           96473.6|\n",
      "|      23|BTC-USDT|       BUY|0.64|33955.0|  OPEN|2023-09-06 11:43:28|           21731.2|          118204.8|\n",
      "|      28|BTC-USDT|       BUY|0.91|33950.0|  OPEN|2023-09-06 11:51:48|           30894.5|          149099.3|\n",
      "|      29|BTC-USDT|       BUY|0.76|33975.0|  OPEN|2023-09-06 11:53:28|           25821.0|          174920.3|\n",
      "|      30|BTC-USDT|       BUY|0.42|33965.0|  OPEN|2023-09-06 11:55:08|           14265.3|189185.59999999998|\n",
      "|      31|BTC-USDT|       BUY| 0.9|33950.0|  OPEN|2023-09-06 11:56:48|           30555.0|219740.59999999998|\n",
      "|      39|BTC-USDT|       BUY|0.42|33975.0|  OPEN|2023-09-06 12:10:08|           14269.5|234010.09999999998|\n",
      "|      40|BTC-USDT|       BUY|0.23|33985.0|  OPEN|2023-09-06 12:11:48|           7816.55|241826.64999999997|\n",
      "|      43|BTC-USDT|       BUY|0.47|33950.0|  OPEN|2023-09-06 12:16:48|           15956.5|257783.14999999997|\n",
      "|      47|BTC-USDT|       BUY|0.23|33950.0|  OPEN|2023-09-06 12:23:28|            7808.5|265591.64999999997|\n",
      "|      48|BTC-USDT|       BUY|0.98|33960.0|  OPEN|2023-09-06 12:25:08|           33280.8|298872.44999999995|\n",
      "|      52|BTC-USDT|       BUY|0.34|33970.0|  OPEN|2023-09-06 12:31:48|11549.800000000001|310422.24999999994|\n",
      "|      64|BTC-USDT|       BUY|0.69|33955.0|  OPEN|2023-09-06 12:51:48|23428.949999999997|333851.19999999995|\n",
      "|      65|BTC-USDT|       BUY|0.85|33950.0|  OPEN|2023-09-06 12:53:28|           28857.5|362708.69999999995|\n",
      "|      66|BTC-USDT|       BUY|0.45|33990.0|  OPEN|2023-09-06 12:55:08|           15295.5|378004.19999999995|\n",
      "+--------+--------+----------+----+-------+------+-------------------+------------------+------------------+\n",
      "only showing top 20 rows\n",
      "\n"
     ]
    }
   ],
   "source": [
    "# Show the DataFrame content\n",
    "df.show()"
   ]
  },
  {
   "cell_type": "code",
   "execution_count": 64,
   "metadata": {},
   "outputs": [
    {
     "data": {
      "text/plain": [
       "5985"
      ]
     },
     "execution_count": 64,
     "metadata": {},
     "output_type": "execute_result"
    }
   ],
   "source": [
    "df.count()\n",
    "# Before: 7825\n",
    "# After Filtered: 5985"
   ]
  },
  {
   "cell_type": "code",
   "execution_count": 65,
   "metadata": {},
   "outputs": [
    {
     "data": {
      "text/plain": [
       "7826"
      ]
     },
     "execution_count": 65,
     "metadata": {},
     "output_type": "execute_result"
    }
   ],
   "source": [
    "source_df.count()\n",
    "# Before: 7826\n",
    "# After: 7826"
   ]
  },
  {
   "cell_type": "code",
   "execution_count": 66,
   "metadata": {},
   "outputs": [
    {
     "data": {
      "text/plain": [
       "0"
      ]
     },
     "execution_count": 66,
     "metadata": {},
     "output_type": "execute_result"
    }
   ],
   "source": [
    "filtered_status_df = df.filter(col('status') == \"CLOSED\")\n",
    "filtered_status_df.count()\n",
    "# Before: 30\n",
    "# After: 0"
   ]
  },
  {
   "cell_type": "code",
   "execution_count": 68,
   "metadata": {},
   "outputs": [
    {
     "data": {
      "text/plain": [
       "2995"
      ]
     },
     "execution_count": 68,
     "metadata": {},
     "output_type": "execute_result"
    }
   ],
   "source": [
    "filtered_order_side_df = df.filter(col('order_side') == \"BUY\")\n",
    "filtered_order_side_df.count()\n",
    "# SELL: 2990\n",
    "# BUYL: 2995\n",
    "# Total: 5985"
   ]
  },
  {
   "cell_type": "code",
   "execution_count": 33,
   "metadata": {},
   "outputs": [
    {
     "name": "stdout",
     "output_type": "stream",
     "text": [
      "+--------+--------+----------+----+-------+------+----------+\n",
      "|order_id|  symbol|order_side|size|  price|status|created_at|\n",
      "+--------+--------+----------+----+-------+------+----------+\n",
      "|     110|BTC-USDT|       BUY|0.93|33975.0|  OPEN|1693984108|\n",
      "|     110|    NULL|      NULL|NULL|   NULL|CLOSED|1693982308|\n",
      "+--------+--------+----------+----+-------+------+----------+\n",
      "\n"
     ]
    }
   ],
   "source": [
    "filtered_df = source_df.filter(col('order_id') == 110)\n",
    "filtered_df.show()\n",
    "\n",
    "# Wed, 06 Sep 2023 07:08:28 GMT\n",
    "# Wednesday, September 6, 2023 6:38:28 AM"
   ]
  }
 ],
 "metadata": {
  "kernelspec": {
   "display_name": "pintu-sr-de-assesment",
   "language": "python",
   "name": "python3"
  },
  "language_info": {
   "codemirror_mode": {
    "name": "ipython",
    "version": 3
   },
   "file_extension": ".py",
   "mimetype": "text/x-python",
   "name": "python",
   "nbconvert_exporter": "python",
   "pygments_lexer": "ipython3",
   "version": "3.9.6"
  }
 },
 "nbformat": 4,
 "nbformat_minor": 2
}
